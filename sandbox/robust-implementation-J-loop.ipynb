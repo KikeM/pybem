{
 "cells": [
  {
   "cell_type": "code",
   "execution_count": 1,
   "metadata": {},
   "outputs": [],
   "source": [
    "import pickle\n",
    "from functools import partial\n",
    "from math import pi\n",
    "from pathlib import Path\n",
    "\n",
    "import matplotlib.pyplot as plt\n",
    "plt.style.use('ggplot')\n",
    "import numpy as np\n",
    "import pandas as pd\n",
    "from scipy.optimize import newton_krylov\n",
    "\n",
    "from tqdm import tqdm_notebook as tqdm\n",
    "\n",
    "from numpy import tan\n",
    "\n",
    "from pybem.core import Airfoil, Propeller\n",
    "\n",
    "from scipy.integrate import simps"
   ]
  },
  {
   "cell_type": "code",
   "execution_count": 2,
   "metadata": {},
   "outputs": [],
   "source": [
    "################################################################################\n",
    "path_polar = Path(r'../data/naca2415_extended.csv')\n",
    "\n",
    "airfoil_data_df = pd.read_csv(path_polar.open(mode='r')) \n",
    "airfoil_data_df = airfoil_data_df.astype(float)\n",
    "\n",
    "alpha    = airfoil_data_df['Alpha'].values\n",
    "polar_cl = airfoil_data_df['Cl'].values\n",
    "polar_cd = airfoil_data_df['Cd'].values\n",
    "\n",
    "airfoil = Airfoil(alpha, polar_cl, polar_cd)\n",
    "                  "
   ]
  },
  {
   "cell_type": "code",
   "execution_count": 3,
   "metadata": {},
   "outputs": [],
   "source": [
    "def solidity(r):\n",
    "    NUM = 2.0 * pi * r * D \n",
    "    DEN = N_b * propeller.chord(r)\n",
    "    return NUM / DEN\n",
    "\n",
    "def tan_phi(r):\n",
    "    return J / r"
   ]
  },
  {
   "cell_type": "code",
   "execution_count": 4,
   "metadata": {},
   "outputs": [],
   "source": [
    "def angles_distribution(theta, r):\n",
    "\n",
    "    _S = solidity(r)\n",
    "    \n",
    "    # Compute base effective pitch\n",
    "    _tan_phi = tan_phi(r) \n",
    "    phi0 = np.rad2deg(np.arctan(_tan_phi))\n",
    "\n",
    "    # Compute airfoil angle\n",
    "    _twist = propeller.beta(r)\n",
    "    _alpha = _twist - (phi0 + theta)\n",
    "\n",
    "    _cl = airfoil.cl(_alpha)\n",
    "    _cd = airfoil.cd(_cl)\n",
    "\n",
    "    _tan_gamma = _cd / _cl\n",
    "    _gamma = np.rad2deg(np.arctan(_tan_gamma))\n",
    "\n",
    "    # Get angles in the right degrees\n",
    "    _phi   = phi0 + theta\n",
    "\n",
    "    return {'twist': _twist, \n",
    "            'alpha':_alpha, \n",
    "            'phi0': phi0, \n",
    "            'phi': _phi, \n",
    "            'r': r, \n",
    "            'theta': theta, \n",
    "            'S_cl': _S / _cl, \n",
    "            'gamma': _gamma}"
   ]
  },
  {
   "cell_type": "code",
   "execution_count": 5,
   "metadata": {},
   "outputs": [],
   "source": [
    "################################################################################\n",
    "def residual(theta, r):\n",
    "\n",
    "    _S = solidity(r)\n",
    "    \n",
    "    # Compute base effective pitch\n",
    "    _tan_phi = tan_phi(r) \n",
    "    phi0 = np.rad2deg(np.arctan(_tan_phi))\n",
    "\n",
    "    # Compute airfoil angle\n",
    "    _twist = propeller.beta(r)\n",
    "    _alpha = _twist - (phi0 + theta)\n",
    "    \n",
    "    _cl = airfoil.cl(_alpha)\n",
    "    _cd = airfoil.cd(_cl)\n",
    "\n",
    "    _tan_gamma = _cd / _cl\n",
    "\n",
    "    # Get angles in the right degrees\n",
    "    _theta = np.deg2rad(theta)\n",
    "    _phi   = np.deg2rad(phi0 + theta)\n",
    "\n",
    "    NUM = 1.0 - _tan_gamma   * np.tan(_theta)\n",
    "    DEN = 4.0 * np.sin(_phi) * np.tan(_theta)\n",
    "\n",
    "    return _S / _cl - NUM / DEN "
   ]
  },
  {
   "cell_type": "code",
   "execution_count": 6,
   "metadata": {},
   "outputs": [],
   "source": [
    "def incidence_axial(angles):\n",
    "    \n",
    "    phi   = np.deg2rad(angles['phi'])\n",
    "    phi0  = np.deg2rad(angles['phi0'])\n",
    "    gamma = np.deg2rad(angles['gamma'])\n",
    "        \n",
    "    NUM = tan(phi) * (1.0 + tan(phi0) * tan(phi + gamma))\n",
    "    DEN = tan(phi0)  * (1.0 + tan(phi) * tan(phi + gamma))\n",
    "    \n",
    "    return NUM / DEN - 1.0\n",
    "\n",
    "def incidence_radial(angles):\n",
    "    \n",
    "    phi  = np.deg2rad(angles['phi'])\n",
    "    phi0 = np.deg2rad(angles['phi0'])\n",
    "    \n",
    "    a = incidence_axial(angles)\n",
    "    \n",
    "    NUM = tan(phi0) * (1.0 + a)\n",
    "    DEN = tan(phi)\n",
    "    \n",
    "    return 1.0 - NUM / DEN"
   ]
  },
  {
   "cell_type": "code",
   "execution_count": 7,
   "metadata": {},
   "outputs": [],
   "source": [
    "def K(angles):\n",
    "    \n",
    "    _cl = airfoil.cl(angles['alpha'])\n",
    "    a = incidence_axial(angles)\n",
    "    \n",
    "    phi   = np.deg2rad(angles['phi'])\n",
    "    gamma = np.deg2rad(angles['gamma'])\n",
    "    \n",
    "    NUM = _cl * (1.0 + a)**2.0\n",
    "    DEN = np.sin(phi)**2.0 * np.cos(gamma)\n",
    "    \n",
    "    return NUM / DEN\n",
    "\n",
    "def Tc(angles):\n",
    "    \n",
    "    _K = K(angles)\n",
    "    \n",
    "    phi   = np.deg2rad(angles['phi'])\n",
    "    gamma = np.deg2rad(angles['gamma'])\n",
    "    \n",
    "    return _K * np.cos(phi + gamma)\n",
    "\n",
    "def Qc(angles):\n",
    "    \n",
    "    _K = K(angles)\n",
    "    \n",
    "    phi   = np.deg2rad(angles['phi'])\n",
    "    gamma = np.deg2rad(angles['gamma'])\n",
    "    \n",
    "    return _K * np.sin(phi + gamma)\n",
    "\n",
    "def dCT_dr(angles):\n",
    "    \n",
    "    _r = angles['r']\n",
    "    \n",
    "    _c = propeller.chord(_r)\n",
    "    \n",
    "    _Tc = Tc(angles)\n",
    "    \n",
    "    return _c * _Tc\n",
    "\n",
    "def dCQ_dr(angles):\n",
    "    \n",
    "    _r = angles['r']\n",
    "    \n",
    "    _c = propeller.chord(_r)\n",
    "    \n",
    "    _Qc = Qc(angles)\n",
    "    \n",
    "    return _r * _c * _Qc"
   ]
  },
  {
   "cell_type": "code",
   "execution_count": null,
   "metadata": {},
   "outputs": [
    {
     "data": {
      "application/vnd.jupyter.widget-view+json": {
       "model_id": "09b86db2d428444aaeb5f45365572ca3",
       "version_major": 2,
       "version_minor": 0
      },
      "text/plain": [
       "HBox(children=(IntProgress(value=0, max=10), HTML(value='')))"
      ]
     },
     "metadata": {},
     "output_type": "display_data"
    },
    {
     "data": {
      "application/vnd.jupyter.widget-view+json": {
       "model_id": "16061e5401e94598b4b0fd9bd32ff3a7",
       "version_major": 2,
       "version_minor": 0
      },
      "text/plain": [
       "HBox(children=(IntProgress(value=0, max=5), HTML(value='')))"
      ]
     },
     "metadata": {},
     "output_type": "display_data"
    },
    {
     "data": {
      "application/vnd.jupyter.widget-view+json": {
       "model_id": "69c9930f908b4e908ffc86b17d336c0a",
       "version_major": 2,
       "version_minor": 0
      },
      "text/plain": [
       "HBox(children=(IntProgress(value=0, max=50), HTML(value='')))"
      ]
     },
     "metadata": {},
     "output_type": "display_data"
    },
    {
     "data": {
      "application/vnd.jupyter.widget-view+json": {
       "model_id": "",
       "version_major": 2,
       "version_minor": 0
      },
      "text/plain": [
       "HBox(children=(IntProgress(value=0, max=50), HTML(value='')))"
      ]
     },
     "metadata": {},
     "output_type": "display_data"
    },
    {
     "data": {
      "application/vnd.jupyter.widget-view+json": {
       "model_id": "",
       "version_major": 2,
       "version_minor": 0
      },
      "text/plain": [
       "HBox(children=(IntProgress(value=0, max=50), HTML(value='')))"
      ]
     },
     "metadata": {},
     "output_type": "display_data"
    },
    {
     "data": {
      "application/vnd.jupyter.widget-view+json": {
       "model_id": "",
       "version_major": 2,
       "version_minor": 0
      },
      "text/plain": [
       "HBox(children=(IntProgress(value=0, max=50), HTML(value='')))"
      ]
     },
     "metadata": {},
     "output_type": "display_data"
    },
    {
     "data": {
      "application/vnd.jupyter.widget-view+json": {
       "model_id": "",
       "version_major": 2,
       "version_minor": 0
      },
      "text/plain": [
       "HBox(children=(IntProgress(value=0, max=50), HTML(value='')))"
      ]
     },
     "metadata": {},
     "output_type": "display_data"
    },
    {
     "name": "stdout",
     "output_type": "stream",
     "text": [
      "\n"
     ]
    },
    {
     "data": {
      "application/vnd.jupyter.widget-view+json": {
       "model_id": "9519b6ae216e42cfba498138ede229e7",
       "version_major": 2,
       "version_minor": 0
      },
      "text/plain": [
       "HBox(children=(IntProgress(value=0, max=5), HTML(value='')))"
      ]
     },
     "metadata": {},
     "output_type": "display_data"
    },
    {
     "data": {
      "application/vnd.jupyter.widget-view+json": {
       "model_id": "",
       "version_major": 2,
       "version_minor": 0
      },
      "text/plain": [
       "HBox(children=(IntProgress(value=0, max=50), HTML(value='')))"
      ]
     },
     "metadata": {},
     "output_type": "display_data"
    },
    {
     "data": {
      "application/vnd.jupyter.widget-view+json": {
       "model_id": "",
       "version_major": 2,
       "version_minor": 0
      },
      "text/plain": [
       "HBox(children=(IntProgress(value=0, max=50), HTML(value='')))"
      ]
     },
     "metadata": {},
     "output_type": "display_data"
    },
    {
     "data": {
      "application/vnd.jupyter.widget-view+json": {
       "model_id": "",
       "version_major": 2,
       "version_minor": 0
      },
      "text/plain": [
       "HBox(children=(IntProgress(value=0, max=50), HTML(value='')))"
      ]
     },
     "metadata": {},
     "output_type": "display_data"
    },
    {
     "data": {
      "application/vnd.jupyter.widget-view+json": {
       "model_id": "",
       "version_major": 2,
       "version_minor": 0
      },
      "text/plain": [
       "HBox(children=(IntProgress(value=0, max=50), HTML(value='')))"
      ]
     },
     "metadata": {},
     "output_type": "display_data"
    },
    {
     "data": {
      "application/vnd.jupyter.widget-view+json": {
       "model_id": "e6b2d0f288b948078819e9ccaefc3deb",
       "version_major": 2,
       "version_minor": 0
      },
      "text/plain": [
       "HBox(children=(IntProgress(value=0, max=50), HTML(value='')))"
      ]
     },
     "metadata": {},
     "output_type": "display_data"
    }
   ],
   "source": [
    "################################################################################\n",
    "\n",
    "# Create propeller parameters\n",
    "J   = 0.5\n",
    "D   = 1.0\n",
    "N_b = 8\n",
    "\n",
    "twist_factor = 1.2\n",
    "\n",
    "N_J = 10\n",
    "N_twist = 5\n",
    "\n",
    "analysis_df = pd.DataFrame()\n",
    "\n",
    "counter = 0\n",
    "for J in tqdm(np.linspace(0.1, 1.0, N_J)):\n",
    "    \n",
    "    for twist_factor in tqdm(np.linspace(1.0, 1.5, N_twist)):\n",
    "\n",
    "        # Create distributions\n",
    "        N = 50\n",
    "        # r_hat = r / D\n",
    "        r_hat = np.linspace(0.25, 0.5, N)\n",
    "        chord = np.linspace(1.0, 0.5, N)\n",
    "\n",
    "        tan0 = np.rad2deg(np.arctan(tan_phi(r_hat[0])))\n",
    "        tanN = np.rad2deg(np.arctan(tan_phi(r_hat[-1])))\n",
    "\n",
    "        twist = np.linspace(tan0, tanN, N) * twist_factor\n",
    "\n",
    "        propeller = Propeller(r_hub      = 0.0, \n",
    "                              r_tip      = 0.0,\n",
    "                              r_dist     = r_hat,\n",
    "                              beta_dist  = twist,\n",
    "                              chord_dist = chord)\n",
    "\n",
    "        ##############\n",
    "        inference_angles = []\n",
    "\n",
    "        try:\n",
    "            for radius in tqdm(r_hat, leave=False):\n",
    "                _residual = partial(residual, r = radius)\n",
    "                inference_angles.append({'r': radius, 'theta': newton_krylov(_residual, 0.5, iter = 1000).item()})\n",
    "\n",
    "            theta_df = pd.DataFrame(inference_angles).set_index('r') \n",
    "        except:\n",
    "            # Recover data\n",
    "            analysis_df.loc[counter, 'J'] = J\n",
    "            analysis_df.loc[counter, 'beta'] = twist_factor\n",
    "\n",
    "            analysis_df.loc[counter, 'CT'] = np.nan\n",
    "            analysis_df.loc[counter, 'CQ'] = np.nan\n",
    "            \n",
    "            continue\n",
    "\n",
    "\n",
    "        ###########\n",
    "        distributions = []\n",
    "\n",
    "        for radius in theta_df.index:\n",
    "            distributions.append(angles_distribution(theta_df.loc[radius].values[0], radius))\n",
    "\n",
    "        distributions_df = pd.DataFrame(distributions)\n",
    "        distributions_df = distributions_df.set_index('r')\n",
    "\n",
    "        incidences = []\n",
    "\n",
    "        for angles in distributions:\n",
    "\n",
    "            a       = incidence_axial(angles)\n",
    "            a_prime = incidence_radial(angles)\n",
    "\n",
    "            incidences.append({'a':a, 'a_p': a_prime, 'r': angles['r']})\n",
    "\n",
    "        d_ct = pd.Series()\n",
    "        d_qt = pd.Series()\n",
    "\n",
    "        for angles in distributions:\n",
    "            d_ct.loc[angles['r']] = dCT_dr(angles)\n",
    "            d_qt.loc[angles['r']] = dCQ_dr(angles)\n",
    "\n",
    "        T = pd.Series()\n",
    "        Q = pd.Series()\n",
    "\n",
    "        for element in d_ct.index:\n",
    "            T.loc[element] = simps(d_ct.loc[:element].values, d_ct.loc[:element].index.values)\n",
    "            Q.loc[element] = simps(d_qt.loc[:element].values, d_qt.loc[:element].index.values)\n",
    "        \n",
    "        # Recover data\n",
    "        analysis_df.loc[counter, 'J'] = J\n",
    "        analysis_df.loc[counter, 'beta'] = twist_factor\n",
    "        \n",
    "        analysis_df.loc[counter, 'CT'] = T.tail(1).values[0]\n",
    "        analysis_df.loc[counter, 'CQ'] = Q.tail(1).values[0]\n",
    "        \n",
    "        counter += 1"
   ]
  },
  {
   "cell_type": "code",
   "execution_count": 9,
   "metadata": {},
   "outputs": [
    {
     "data": {
      "text/html": [
       "<div>\n",
       "<style scoped>\n",
       "    .dataframe tbody tr th:only-of-type {\n",
       "        vertical-align: middle;\n",
       "    }\n",
       "\n",
       "    .dataframe tbody tr th {\n",
       "        vertical-align: top;\n",
       "    }\n",
       "\n",
       "    .dataframe thead th {\n",
       "        text-align: right;\n",
       "    }\n",
       "</style>\n",
       "<table border=\"1\" class=\"dataframe\">\n",
       "  <thead>\n",
       "    <tr style=\"text-align: right;\">\n",
       "      <th></th>\n",
       "      <th>J</th>\n",
       "      <th>beta</th>\n",
       "      <th>CT</th>\n",
       "      <th>CQ</th>\n",
       "    </tr>\n",
       "  </thead>\n",
       "  <tbody>\n",
       "    <tr>\n",
       "      <td>0</td>\n",
       "      <td>1.0</td>\n",
       "      <td>1.5</td>\n",
       "      <td>NaN</td>\n",
       "      <td>NaN</td>\n",
       "    </tr>\n",
       "  </tbody>\n",
       "</table>\n",
       "</div>"
      ],
      "text/plain": [
       "     J  beta  CT  CQ\n",
       "0  1.0   1.5 NaN NaN"
      ]
     },
     "execution_count": 9,
     "metadata": {},
     "output_type": "execute_result"
    }
   ],
   "source": [
    "analysis_df"
   ]
  },
  {
   "cell_type": "code",
   "execution_count": null,
   "metadata": {},
   "outputs": [],
   "source": []
  }
 ],
 "metadata": {
  "kernelspec": {
   "display_name": "pybem",
   "language": "python",
   "name": "pybem"
  },
  "language_info": {
   "codemirror_mode": {
    "name": "ipython",
    "version": 3
   },
   "file_extension": ".py",
   "mimetype": "text/x-python",
   "name": "python",
   "nbconvert_exporter": "python",
   "pygments_lexer": "ipython3",
   "version": "3.6.9"
  },
  "latex_envs": {
   "LaTeX_envs_menu_present": true,
   "autoclose": false,
   "autocomplete": true,
   "bibliofile": "biblio.bib",
   "cite_by": "apalike",
   "current_citInitial": 1,
   "eqLabelWithNumbers": true,
   "eqNumInitial": 1,
   "hotkeys": {
    "equation": "Ctrl-E",
    "itemize": "Ctrl-I"
   },
   "labels_anchors": false,
   "latex_user_defs": false,
   "report_style_numbering": false,
   "user_envs_cfg": false
  },
  "toc": {
   "base_numbering": 1,
   "nav_menu": {},
   "number_sections": true,
   "sideBar": true,
   "skip_h1_title": false,
   "title_cell": "Table of Contents",
   "title_sidebar": "Contents",
   "toc_cell": false,
   "toc_position": {},
   "toc_section_display": true,
   "toc_window_display": false
  },
  "varInspector": {
   "cols": {
    "lenName": 16,
    "lenType": 16,
    "lenVar": 40
   },
   "kernels_config": {
    "python": {
     "delete_cmd_postfix": "",
     "delete_cmd_prefix": "del ",
     "library": "var_list.py",
     "varRefreshCmd": "print(var_dic_list())"
    },
    "r": {
     "delete_cmd_postfix": ") ",
     "delete_cmd_prefix": "rm(",
     "library": "var_list.r",
     "varRefreshCmd": "cat(var_dic_list()) "
    }
   },
   "types_to_exclude": [
    "module",
    "function",
    "builtin_function_or_method",
    "instance",
    "_Feature"
   ],
   "window_display": false
  }
 },
 "nbformat": 4,
 "nbformat_minor": 2
}
