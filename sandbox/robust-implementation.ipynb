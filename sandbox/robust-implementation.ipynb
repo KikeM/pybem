{
 "cells": [
  {
   "cell_type": "code",
   "execution_count": 1,
   "metadata": {},
   "outputs": [],
   "source": [
    "import pickle\n",
    "from functools import partial\n",
    "from math import pi\n",
    "from pathlib import Path\n",
    "\n",
    "import matplotlib.pyplot as plt\n",
    "plt.style.use('ggplot')\n",
    "import numpy as np\n",
    "import pandas as pd\n",
    "from scipy.optimize import newton_krylov\n",
    "\n",
    "from tqdm import tqdm_notebook as tqdm\n",
    "\n",
    "from pybem.core import Airfoil, Propeller"
   ]
  },
  {
   "cell_type": "code",
   "execution_count": 2,
   "metadata": {},
   "outputs": [],
   "source": [
    "################################################################################\n",
    "path_polar = Path(r'../data/naca2415_extended.csv')\n",
    "\n",
    "airfoil_data_df = pd.read_csv(path_polar.open(mode='r')) \n",
    "airfoil_data_df = airfoil_data_df.astype(float)\n",
    "\n",
    "alpha    = airfoil_data_df['Alpha'].values\n",
    "polar_cl = airfoil_data_df['Cl'].values\n",
    "polar_cd = airfoil_data_df['Cd'].values\n",
    "\n",
    "airfoil = Airfoil(alpha, polar_cl, polar_cd)\n",
    "                  "
   ]
  },
  {
   "cell_type": "code",
   "execution_count": 57,
   "metadata": {},
   "outputs": [
    {
     "name": "stdout",
     "output_type": "stream",
     "text": [
      "phi_0 63.43494882292202\n",
      "phi_N 45.0\n"
     ]
    }
   ],
   "source": [
    "################################################################################\n",
    "\n",
    "# Create propeller parameters\n",
    "J   = 0.5\n",
    "D   = 1.0\n",
    "N_b = 8\n",
    "\n",
    "def solidity(r):\n",
    "    NUM = 2.0 * pi * r * D \n",
    "    DEN = N_b * propeller.chord(r)\n",
    "    return NUM / DEN\n",
    "\n",
    "def tan_phi(r):\n",
    "    return J / r\n",
    "\n",
    "# Create distributions\n",
    "N = 50\n",
    "# r_hat = r / D\n",
    "r_hat = np.linspace(0.25, 0.5, N)\n",
    "chord = np.linspace(1.0, 0.5, N)\n",
    "\n",
    "tan0 = np.rad2deg(np.arctan(tan_phi(r_hat[0])))\n",
    "tanN = np.rad2deg(np.arctan(tan_phi(r_hat[-1])))\n",
    "\n",
    "print('phi_0', tan0)\n",
    "print('phi_N', tanN)\n",
    "\n",
    "twist = np.linspace(tan0, tanN, N) * 1.2\n",
    "\n",
    "propeller = Propeller(r_hub      = 0.0, \n",
    "                      r_tip      = 0.0,\n",
    "                      r_dist     = r_hat,\n",
    "                      beta_dist  = twist,\n",
    "                      chord_dist = chord)"
   ]
  },
  {
   "cell_type": "code",
   "execution_count": 58,
   "metadata": {},
   "outputs": [],
   "source": [
    "################################################################################\n",
    "def residual(theta, r):\n",
    "\n",
    "    _S = solidity(r)\n",
    "    \n",
    "    # Compute base effective pitch\n",
    "    _tan_phi = tan_phi(r) \n",
    "    phi0 = np.rad2deg(np.arctan(_tan_phi))\n",
    "\n",
    "    # Compute airfoil angle\n",
    "    _twist = propeller.beta(r)\n",
    "    _alpha = _twist - (phi0 + theta)\n",
    "    \n",
    "    # return phi0, _alpha, _twist\n",
    "\n",
    "    try:\n",
    "        _cl = airfoil.cl(_alpha)\n",
    "        _cd = airfoil.cd(_cl)\n",
    "    except:\n",
    "        print('phi0:', phi0)\n",
    "        print('twist:', _twist)\n",
    "        print('alpha:', _alpha)\n",
    "        print('theta:', theta)\n",
    "        raise ValueError\n",
    "\n",
    "    _tan_gamma = _cd / _cl\n",
    "\n",
    "    # Get angles in the right degrees\n",
    "    _theta = np.deg2rad(theta)\n",
    "    _phi   = np.deg2rad(phi0 + theta)\n",
    "\n",
    "    NUM = 1.0 - _tan_gamma   * np.tan(_theta)\n",
    "    DEN = 4.0 * np.sin(_phi) * np.tan(_theta)\n",
    "\n",
    "    return _S / _cl - NUM / DEN "
   ]
  },
  {
   "cell_type": "code",
   "execution_count": 59,
   "metadata": {},
   "outputs": [
    {
     "data": {
      "application/vnd.jupyter.widget-view+json": {
       "model_id": "e25ec2a4409a44f699d2bddb016ceeda",
       "version_major": 2,
       "version_minor": 0
      },
      "text/plain": [
       "HBox(children=(IntProgress(value=0, max=50), HTML(value='')))"
      ]
     },
     "metadata": {},
     "output_type": "display_data"
    },
    {
     "name": "stdout",
     "output_type": "stream",
     "text": [
      "\n"
     ]
    }
   ],
   "source": [
    "inference_angles = []\n",
    "\n",
    "for radius in tqdm(r_hat):\n",
    "    _residual = partial(residual, r = radius)\n",
    "    inference_angles.append({'r': radius, 'theta': newton_krylov(_residual, 0.5, iter = 1000).item()})\n",
    "\n",
    "theta_df = pd.DataFrame(inference_angles).set_index('r') "
   ]
  },
  {
   "cell_type": "code",
   "execution_count": 60,
   "metadata": {},
   "outputs": [
    {
     "data": {
      "text/plain": [
       "<matplotlib.axes._subplots.AxesSubplot at 0x12daa1be0>"
      ]
     },
     "execution_count": 60,
     "metadata": {},
     "output_type": "execute_result"
    },
    {
     "data": {
      "image/png": "[encoded data removed]",
      "text/plain": [
       "<Figure size 432x288 with 1 Axes>"
      ]
     },
     "metadata": {
      "needs_background": "light"
     },
     "output_type": "display_data"
    }
   ],
   "source": [
    "theta_df = pd.DataFrame(inference_angles).set_index('r')\n",
    "\n",
    "theta_df.plot()"
   ]
  },
  {
   "cell_type": "markdown",
   "metadata": {},
   "source": [
    "---"
   ]
  },
  {
   "cell_type": "code",
   "execution_count": 61,
   "metadata": {},
   "outputs": [],
   "source": [
    "def angles_distribution(theta, r):\n",
    "\n",
    "    _S = solidity(r)\n",
    "    \n",
    "    # Compute base effective pitch\n",
    "    _tan_phi = tan_phi(r) \n",
    "    phi0 = np.rad2deg(np.arctan(_tan_phi))\n",
    "\n",
    "    # Compute airfoil angle\n",
    "    _twist = propeller.beta(r)\n",
    "    _alpha = _twist - (phi0 + theta)\n",
    "\n",
    "    _cl = airfoil.cl(_alpha)\n",
    "    _cd = airfoil.cd(_cl)\n",
    "\n",
    "    _tan_gamma = _cd / _cl\n",
    "    _gamma = np.rad2deg(np.arctan(_tan_gamma))\n",
    "\n",
    "    # Get angles in the right degrees\n",
    "    _phi   = phi0 + theta\n",
    "\n",
    "    return {'twist': _twist, \n",
    "            'alpha':_alpha, \n",
    "            'phi0': phi0, \n",
    "            'phi': _phi, \n",
    "            'r': r, \n",
    "            'theta': theta, \n",
    "            'S_cl': _S / _cl, \n",
    "            'gamma': _gamma}\n",
    "\n",
    "#%%\n",
    "distributions = []\n",
    "\n",
    "for radius in theta_df.index:\n",
    "    distributions.append(angles_distribution(theta_df.loc[radius].values[0], radius))\n",
    "\n",
    "distributions_df = pd.DataFrame(distributions)\n",
    "distributions_df = distributions_df.set_index('r')\n",
    "#%%"
   ]
  },
  {
   "cell_type": "code",
   "execution_count": 62,
   "metadata": {},
   "outputs": [
    {
     "data": {
      "text/plain": [
       "array([<matplotlib.axes._subplots.AxesSubplot object at 0x12dcb0668>,\n",
       "       <matplotlib.axes._subplots.AxesSubplot object at 0x12d823940>,\n",
       "       <matplotlib.axes._subplots.AxesSubplot object at 0x12d932908>,\n",
       "       <matplotlib.axes._subplots.AxesSubplot object at 0x12d9ca8d0>,\n",
       "       <matplotlib.axes._subplots.AxesSubplot object at 0x12da61898>,\n",
       "       <matplotlib.axes._subplots.AxesSubplot object at 0x12cfa7860>,\n",
       "       <matplotlib.axes._subplots.AxesSubplot object at 0x12d6c3a20>],\n",
       "      dtype=object)"
      ]
     },
     "execution_count": 62,
     "metadata": {},
     "output_type": "execute_result"
    },
    {
     "data": {
      "image/png": "[encoded data removed]",
      "text/plain": [
       "<Figure size 720x1080 with 7 Axes>"
      ]
     },
     "metadata": {
      "needs_background": "light"
     },
     "output_type": "display_data"
    }
   ],
   "source": [
    "distributions_df.plot(subplots=True, figsize = (10,15))"
   ]
  },
  {
   "cell_type": "markdown",
   "metadata": {},
   "source": [
    "---"
   ]
  },
  {
   "cell_type": "code",
   "execution_count": 63,
   "metadata": {},
   "outputs": [],
   "source": [
    "from numpy import tan"
   ]
  },
  {
   "cell_type": "code",
   "execution_count": 64,
   "metadata": {},
   "outputs": [],
   "source": [
    "def incidence_axial(angles):\n",
    "    \n",
    "    phi   = np.deg2rad(angles['phi'])\n",
    "    phi0  = np.deg2rad(angles['phi0'])\n",
    "    gamma = np.deg2rad(angles['gamma'])\n",
    "        \n",
    "    NUM = tan(phi) * (1.0 + tan(phi0) * tan(phi + gamma))\n",
    "    DEN = tan(phi0)  * (1.0 + tan(phi) * tan(phi + gamma))\n",
    "    \n",
    "    return NUM / DEN - 1.0"
   ]
  },
  {
   "cell_type": "code",
   "execution_count": 65,
   "metadata": {},
   "outputs": [],
   "source": [
    "def incidence_radial(angles):\n",
    "    \n",
    "    phi  = np.deg2rad(angles['phi'])\n",
    "    phi0 = np.deg2rad(angles['phi0'])\n",
    "    \n",
    "    a = incidence_axial(angles)\n",
    "    \n",
    "    NUM = tan(phi0) * (1.0 + a)\n",
    "    DEN = tan(phi)\n",
    "    \n",
    "    return 1.0 - NUM / DEN"
   ]
  },
  {
   "cell_type": "code",
   "execution_count": 66,
   "metadata": {},
   "outputs": [],
   "source": [
    "incidences = []\n",
    "\n",
    "for angles in distributions:\n",
    "\n",
    "    a       = incidence_axial(angles)\n",
    "    a_prime = incidence_radial(angles)\n",
    "    \n",
    "    incidences.append({'a':a, 'a_p': a_prime, 'r': angles['r']})"
   ]
  },
  {
   "cell_type": "code",
   "execution_count": 67,
   "metadata": {},
   "outputs": [
    {
     "data": {
      "text/plain": [
       "array([<matplotlib.axes._subplots.AxesSubplot object at 0x12cad0048>,\n",
       "       <matplotlib.axes._subplots.AxesSubplot object at 0x12cb03780>],\n",
       "      dtype=object)"
      ]
     },
     "execution_count": 67,
     "metadata": {},
     "output_type": "execute_result"
    },
    {
     "data": {
      "image/png": "[encoded data removed]",
      "text/plain": [
       "<Figure size 432x288 with 2 Axes>"
      ]
     },
     "metadata": {
      "needs_background": "light"
     },
     "output_type": "display_data"
    }
   ],
   "source": [
    "pd.DataFrame(incidences).set_index('r').plot(subplots=True)"
   ]
  },
  {
   "cell_type": "markdown",
   "metadata": {},
   "source": [
    "---"
   ]
  },
  {
   "cell_type": "code",
   "execution_count": 68,
   "metadata": {},
   "outputs": [],
   "source": [
    "def K(angles):\n",
    "    \n",
    "    _cl = airfoil.cl(angles['alpha'])\n",
    "    a = incidence_axial(angles)\n",
    "    \n",
    "    phi   = np.deg2rad(angles['phi'])\n",
    "    gamma = np.deg2rad(angles['gamma'])\n",
    "    \n",
    "    NUM = _cl * (1.0 + a)**2.0\n",
    "    DEN = np.sin(phi)**2.0 * np.cos(gamma)\n",
    "    \n",
    "    return NUM / DEN"
   ]
  },
  {
   "cell_type": "code",
   "execution_count": 69,
   "metadata": {},
   "outputs": [],
   "source": [
    "def Tc(angles):\n",
    "    \n",
    "    _K = K(angles)\n",
    "    \n",
    "    phi   = np.deg2rad(angles['phi'])\n",
    "    gamma = np.deg2rad(angles['gamma'])\n",
    "    \n",
    "    return _K * np.cos(phi + gamma)"
   ]
  },
  {
   "cell_type": "code",
   "execution_count": 70,
   "metadata": {},
   "outputs": [],
   "source": [
    "def Qc(angles):\n",
    "    \n",
    "    _K = K(angles)\n",
    "    \n",
    "    phi   = np.deg2rad(angles['phi'])\n",
    "    gamma = np.deg2rad(angles['gamma'])\n",
    "    \n",
    "    return _K * np.sin(phi + gamma)"
   ]
  },
  {
   "cell_type": "code",
   "execution_count": 71,
   "metadata": {},
   "outputs": [],
   "source": [
    "def dCT_dr(angles):\n",
    "    \n",
    "    _r = angles['r']\n",
    "    \n",
    "    _c = propeller.chord(_r)\n",
    "    \n",
    "    _Tc = Tc(angles)\n",
    "    \n",
    "    return _c * _Tc"
   ]
  },
  {
   "cell_type": "code",
   "execution_count": 72,
   "metadata": {},
   "outputs": [],
   "source": [
    "def dCQ_dr(angles):\n",
    "    \n",
    "    _r = angles['r']\n",
    "    \n",
    "    _c = propeller.chord(_r)\n",
    "    \n",
    "    _Qc = Qc(angles)\n",
    "    \n",
    "    return _r * _c * _Qc"
   ]
  },
  {
   "cell_type": "code",
   "execution_count": 73,
   "metadata": {},
   "outputs": [
    {
     "data": {
      "text/plain": [
       "0.20220748734062266"
      ]
     },
     "execution_count": 73,
     "metadata": {},
     "output_type": "execute_result"
    }
   ],
   "source": [
    "dCT_dr(angles)"
   ]
  },
  {
   "cell_type": "code",
   "execution_count": 74,
   "metadata": {},
   "outputs": [
    {
     "data": {
      "text/plain": [
       "0.13936514558107332"
      ]
     },
     "execution_count": 74,
     "metadata": {},
     "output_type": "execute_result"
    }
   ],
   "source": [
    "dCQ_dr(angles)"
   ]
  },
  {
   "cell_type": "code",
   "execution_count": 75,
   "metadata": {},
   "outputs": [
    {
     "data": {
      "application/vnd.jupyter.widget-view+json": {
       "model_id": "93e85322ebd84b1d8c123e41fb9d1455",
       "version_major": 2,
       "version_minor": 0
      },
      "text/plain": [
       "HBox(children=(IntProgress(value=0, max=50), HTML(value='')))"
      ]
     },
     "metadata": {},
     "output_type": "display_data"
    },
    {
     "name": "stdout",
     "output_type": "stream",
     "text": [
      "\n"
     ]
    }
   ],
   "source": [
    "d_ct = pd.Series()\n",
    "d_qt = pd.Series()\n",
    "\n",
    "for angles in tqdm(distributions):\n",
    "    d_ct.loc[angles['r']] = dCT_dr(angles)\n",
    "    d_qt.loc[angles['r']] = dCQ_dr(angles)\n",
    "    "
   ]
  },
  {
   "cell_type": "code",
   "execution_count": 76,
   "metadata": {},
   "outputs": [
    {
     "data": {
      "text/plain": [
       "<matplotlib.axes._subplots.AxesSubplot at 0x12e4e6c50>"
      ]
     },
     "execution_count": 76,
     "metadata": {},
     "output_type": "execute_result"
    },
    {
     "data": {
      "image/png": "[encoded data removed]",
      "text/plain": [
       "<Figure size 432x288 with 1 Axes>"
      ]
     },
     "metadata": {
      "needs_background": "light"
     },
     "output_type": "display_data"
    }
   ],
   "source": [
    "d_ct.plot()"
   ]
  },
  {
   "cell_type": "code",
   "execution_count": 77,
   "metadata": {},
   "outputs": [
    {
     "data": {
      "text/plain": [
       "<matplotlib.axes._subplots.AxesSubplot at 0x12e4e6748>"
      ]
     },
     "execution_count": 77,
     "metadata": {},
     "output_type": "execute_result"
    },
    {
     "data": {
      "image/png": "[encoded data removed]",
      "text/plain": [
       "<Figure size 432x288 with 1 Axes>"
      ]
     },
     "metadata": {
      "needs_background": "light"
     },
     "output_type": "display_data"
    }
   ],
   "source": [
    "d_qt.plot()"
   ]
  },
  {
   "cell_type": "code",
   "execution_count": 78,
   "metadata": {},
   "outputs": [],
   "source": [
    "from scipy.integrate import simps\n"
   ]
  },
  {
   "cell_type": "code",
   "execution_count": 79,
   "metadata": {},
   "outputs": [],
   "source": [
    "T = pd.Series()\n",
    "Q = pd.Series()\n",
    "\n",
    "for element in d_ct.index:\n",
    "    T.loc[element] = simps(d_ct.loc[:element].values, d_ct.loc[:element].index.values)\n",
    "    Q.loc[element] = simps(d_qt.loc[:element].values, d_qt.loc[:element].index.values)"
   ]
  },
  {
   "cell_type": "code",
   "execution_count": 80,
   "metadata": {},
   "outputs": [
    {
     "data": {
      "text/plain": [
       "<matplotlib.axes._subplots.AxesSubplot at 0x12e628ba8>"
      ]
     },
     "execution_count": 80,
     "metadata": {},
     "output_type": "execute_result"
    },
    {
     "data": {
      "image/png": "[encoded data removed]",
      "text/plain": [
       "<Figure size 432x288 with 1 Axes>"
      ]
     },
     "metadata": {
      "needs_background": "light"
     },
     "output_type": "display_data"
    }
   ],
   "source": [
    "T.plot()\n",
    "Q.plot()"
   ]
  },
  {
   "cell_type": "code",
   "execution_count": 82,
   "metadata": {},
   "outputs": [
    {
     "data": {
      "text/plain": [
       "0.032213533689808706"
      ]
     },
     "execution_count": 82,
     "metadata": {},
     "output_type": "execute_result"
    }
   ],
   "source": [
    "T.tail(1).values[0]"
   ]
  },
  {
   "cell_type": "code",
   "execution_count": null,
   "metadata": {},
   "outputs": [],
   "source": []
  }
 ],
 "metadata": {
  "kernelspec": {
   "display_name": "pybem",
   "language": "python",
   "name": "pybem"
  },
  "language_info": {
   "codemirror_mode": {
    "name": "ipython",
    "version": 3
   },
   "file_extension": ".py",
   "mimetype": "text/x-python",
   "name": "python",
   "nbconvert_exporter": "python",
   "pygments_lexer": "ipython3",
   "version": "3.6.9"
  },
  "latex_envs": {
   "LaTeX_envs_menu_present": true,
   "autoclose": false,
   "autocomplete": true,
   "bibliofile": "biblio.bib",
   "cite_by": "apalike",
   "current_citInitial": 1,
   "eqLabelWithNumbers": true,
   "eqNumInitial": 1,
   "hotkeys": {
    "equation": "Ctrl-E",
    "itemize": "Ctrl-I"
   },
   "labels_anchors": false,
   "latex_user_defs": false,
   "report_style_numbering": false,
   "user_envs_cfg": false
  },
  "toc": {
   "base_numbering": 1,
   "nav_menu": {},
   "number_sections": true,
   "sideBar": true,
   "skip_h1_title": false,
   "title_cell": "Table of Contents",
   "title_sidebar": "Contents",
   "toc_cell": false,
   "toc_position": {},
   "toc_section_display": true,
   "toc_window_display": false
  },
  "varInspector": {
   "cols": {
    "lenName": 16,
    "lenType": 16,
    "lenVar": 40
   },
   "kernels_config": {
    "python": {
     "delete_cmd_postfix": "",
     "delete_cmd_prefix": "del ",
     "library": "var_list.py",
     "varRefreshCmd": "print(var_dic_list())"
    },
    "r": {
     "delete_cmd_postfix": ") ",
     "delete_cmd_prefix": "rm(",
     "library": "var_list.r",
     "varRefreshCmd": "cat(var_dic_list()) "
    }
   },
   "types_to_exclude": [
    "module",
    "function",
    "builtin_function_or_method",
    "instance",
    "_Feature"
   ],
   "window_display": false
  }
 },
 "nbformat": 4,
 "nbformat_minor": 2
}
