{
 "cells": [
  {
   "cell_type": "code",
   "execution_count": 1,
   "metadata": {},
   "outputs": [],
   "source": [
    "import pickle\n",
    "from functools import partial\n",
    "from math import pi\n",
    "from pathlib import Path\n",
    "\n",
    "import matplotlib.pyplot as plt\n",
    "plt.style.use('ggplot')\n",
    "import numpy as np\n",
    "import pandas as pd\n",
    "from scipy.optimize import newton_krylov\n",
    "\n",
    "from tqdm import tqdm_notebook as tqdm\n",
    "\n",
    "from pybem.core import Airfoil, Propeller"
   ]
  },
  {
   "cell_type": "code",
   "execution_count": 2,
   "metadata": {},
   "outputs": [],
   "source": [
    "################################################################################\n",
    "path_polar = Path(r'D:\\Users\\emillan\\misCodigos\\Notebooks\\pybem\\pybem\\data\\naca2415_extended.csv')\n",
    "\n",
    "airfoil_data_df = pd.read_csv(path_polar.open(mode='r')) \n",
    "airfoil_data_df = airfoil_data_df.astype(float)\n",
    "\n",
    "alpha    = airfoil_data_df['Alpha'].values\n",
    "polar_cl = airfoil_data_df['Cl'].values\n",
    "polar_cd = airfoil_data_df['Cd'].values\n",
    "\n",
    "airfoil = Airfoil(alpha, polar_cl, polar_cd)\n",
    "                  "
   ]
  },
  {
   "cell_type": "code",
   "execution_count": 3,
   "metadata": {},
   "outputs": [
    {
     "name": "stdout",
     "output_type": "stream",
     "text": [
      "phi_0 45.0\n",
      "phi_N 26.56505117707799\n"
     ]
    }
   ],
   "source": [
    "################################################################################\n",
    "\n",
    "# Create propeller parameters\n",
    "J   = 0.25\n",
    "D   = 1.0\n",
    "N_b = 8\n",
    "\n",
    "def solidity(r):\n",
    "    NUM = 2.0 * pi * r * D \n",
    "    DEN = N_b * propeller.chord(r)\n",
    "    return NUM / DEN\n",
    "\n",
    "def tan_phi(r):\n",
    "    return J / r\n",
    "\n",
    "# Create distributions\n",
    "N = 50\n",
    "# r_hat = r / D\n",
    "r_hat = np.linspace(0.25, 0.5, N)\n",
    "chord = np.linspace(1.0, 0.5, N)\n",
    "\n",
    "tan0 = np.rad2deg(np.arctan(tan_phi(r_hat[0])))\n",
    "tanN = np.rad2deg(np.arctan(tan_phi(r_hat[-1])))\n",
    "\n",
    "print('phi_0', tan0)\n",
    "print('phi_N', tanN)\n",
    "\n",
    "twist = np.linspace(tan0, tanN, N) * 1.4\n",
    "\n",
    "propeller = Propeller(r_hub      = 0.0, \n",
    "                      r_tip      = 0.0,\n",
    "                      r_dist     = r_hat,\n",
    "                      beta_dist  = twist,\n",
    "                      chord_dist = chord)"
   ]
  },
  {
   "cell_type": "code",
   "execution_count": 4,
   "metadata": {},
   "outputs": [],
   "source": [
    "################################################################################\n",
    "def residual(theta, r):\n",
    "\n",
    "    _S = solidity(r)\n",
    "    \n",
    "    # Compute base effective pitch\n",
    "    _tan_phi = tan_phi(r) \n",
    "    phi0 = np.rad2deg(np.arctan(_tan_phi))\n",
    "\n",
    "    # Compute airfoil angle\n",
    "    _twist = propeller.beta(r)\n",
    "    _alpha = _twist - (phi0 + theta)\n",
    "    \n",
    "    # return phi0, _alpha, _twist\n",
    "\n",
    "    try:\n",
    "        _cl = airfoil.cl(_alpha)\n",
    "        _cd = airfoil.cd(_cl)\n",
    "    except:\n",
    "        print('phi0:', phi0)\n",
    "        print('twist:', _twist)\n",
    "        print('alpha:', _alpha)\n",
    "        print('theta:', theta)\n",
    "        raise ValueError\n",
    "\n",
    "    _tan_gamma = _cd / _cl\n",
    "\n",
    "    # Get angles in the right degrees\n",
    "    _theta = np.deg2rad(theta)\n",
    "    _phi   = np.deg2rad(phi0 + theta)\n",
    "\n",
    "    NUM = 1.0 - _tan_gamma   * np.tan(_theta)\n",
    "    DEN = 4.0 * np.sin(_phi) * np.tan(_theta)\n",
    "\n",
    "    return _S / _cl - NUM / DEN "
   ]
  },
  {
   "cell_type": "code",
   "execution_count": 5,
   "metadata": {},
   "outputs": [
    {
     "data": {
      "application/vnd.jupyter.widget-view+json": {
       "model_id": "6ffdfbda6bdf41f98f4bdd03413faf1f",
       "version_major": 2,
       "version_minor": 0
      },
      "text/plain": [
       "HBox(children=(IntProgress(value=0, max=50), HTML(value='')))"
      ]
     },
     "metadata": {},
     "output_type": "display_data"
    },
    {
     "name": "stdout",
     "output_type": "stream",
     "text": [
      "\n"
     ]
    }
   ],
   "source": [
    "inference_angles = []\n",
    "\n",
    "for radius in tqdm(r_hat):\n",
    "    _residual = partial(residual, r = radius)\n",
    "    inference_angles.append({'r': radius, 'theta': newton_krylov(_residual, 0.5, iter = 1000).item()})\n",
    "\n",
    "theta_df = pd.DataFrame(inference_angles).set_index('r') "
   ]
  },
  {
   "cell_type": "code",
   "execution_count": 6,
   "metadata": {},
   "outputs": [],
   "source": [
    "theta_df = pd.DataFrame(inference_angles).set_index('r')"
   ]
  },
  {
   "cell_type": "code",
   "execution_count": 7,
   "metadata": {},
   "outputs": [
    {
     "data": {
      "text/plain": [
       "<matplotlib.axes._subplots.AxesSubplot at 0x18453ef0>"
      ]
     },
     "execution_count": 7,
     "metadata": {},
     "output_type": "execute_result"
    },
    {
     "data": {
      "image/png": "[encoded data removed]",
      "text/plain": [
       "<Figure size 432x288 with 1 Axes>"
      ]
     },
     "metadata": {
      "needs_background": "light"
     },
     "output_type": "display_data"
    }
   ],
   "source": [
    "theta_df.plot()"
   ]
  },
  {
   "cell_type": "code",
   "execution_count": 8,
   "metadata": {},
   "outputs": [
    {
     "data": {
      "text/plain": [
       "array([0.25      , 0.25510204, 0.26020408, 0.26530612, 0.27040816,\n",
       "       0.2755102 , 0.28061224, 0.28571429, 0.29081633, 0.29591837,\n",
       "       0.30102041, 0.30612245, 0.31122449, 0.31632653, 0.32142857,\n",
       "       0.32653061, 0.33163265, 0.33673469, 0.34183673, 0.34693878,\n",
       "       0.35204082, 0.35714286, 0.3622449 , 0.36734694, 0.37244898,\n",
       "       0.37755102, 0.38265306, 0.3877551 , 0.39285714, 0.39795918,\n",
       "       0.40306122, 0.40816327, 0.41326531, 0.41836735, 0.42346939,\n",
       "       0.42857143, 0.43367347, 0.43877551, 0.44387755, 0.44897959,\n",
       "       0.45408163, 0.45918367, 0.46428571, 0.46938776, 0.4744898 ,\n",
       "       0.47959184, 0.48469388, 0.48979592, 0.49489796, 0.5       ])"
      ]
     },
     "execution_count": 8,
     "metadata": {},
     "output_type": "execute_result"
    }
   ],
   "source": [
    "r_hat"
   ]
  },
  {
   "cell_type": "code",
   "execution_count": 14,
   "metadata": {},
   "outputs": [],
   "source": [
    "def angles_distribution(theta, r):\n",
    "\n",
    "    _S = solidity(r)\n",
    "    \n",
    "    # Compute base effective pitch\n",
    "    _tan_phi = tan_phi(r) \n",
    "    phi0 = np.rad2deg(np.arctan(_tan_phi))\n",
    "\n",
    "    # Compute airfoil angle\n",
    "    _twist = propeller.beta(r)\n",
    "    _alpha = _twist - (phi0 + theta)\n",
    "\n",
    "    _cl = airfoil.cl(_alpha)\n",
    "    _cd = airfoil.cd(_cl)\n",
    "\n",
    "    _tan_gamma = _cd / _cl\n",
    "    _gamma = np.rad2deg(np.arctan(_tan_gamma))\n",
    "\n",
    "    # Get angles in the right degrees\n",
    "    _phi   = phi0 + theta\n",
    "\n",
    "    return {'twist': _twist, \n",
    "            'alpha':_alpha, \n",
    "            'phi0': phi0, \n",
    "            'phi': _phi, \n",
    "            'r': r, \n",
    "            'theta': theta, \n",
    "            'S_cl': _S / _cl, \n",
    "            'gamma': _gamma}\n",
    "\n",
    "#%%\n",
    "distributions = []\n",
    "\n",
    "for radius in theta_df.index:\n",
    "    distributions.append(angles_distribution(theta_df.loc[radius].values[0], radius))\n",
    "\n",
    "distributions_df = pd.DataFrame(distributions)\n",
    "distributions_df = distributions_df.set_index('r')\n",
    "#%%"
   ]
  },
  {
   "cell_type": "code",
   "execution_count": 15,
   "metadata": {},
   "outputs": [
    {
     "data": {
      "text/plain": [
       "array([<matplotlib.axes._subplots.AxesSubplot object at 0x000000001EBB9EF0>,\n",
       "       <matplotlib.axes._subplots.AxesSubplot object at 0x000000001ECA44A8>,\n",
       "       <matplotlib.axes._subplots.AxesSubplot object at 0x000000001ECE1E10>,\n",
       "       <matplotlib.axes._subplots.AxesSubplot object at 0x000000001ECFCDD8>,\n",
       "       <matplotlib.axes._subplots.AxesSubplot object at 0x000000001ECAFBE0>,\n",
       "       <matplotlib.axes._subplots.AxesSubplot object at 0x000000001ED16400>,\n",
       "       <matplotlib.axes._subplots.AxesSubplot object at 0x000000001ED52780>],\n",
       "      dtype=object)"
      ]
     },
     "execution_count": 15,
     "metadata": {},
     "output_type": "execute_result"
    },
    {
     "data": {
      "image/png": "[encoded data removed]",
      "text/plain": [
       "<Figure size 720x1080 with 7 Axes>"
      ]
     },
     "metadata": {
      "needs_background": "light"
     },
     "output_type": "display_data"
    }
   ],
   "source": [
    "distributions_df.plot(subplots=True, figsize = (10,15))"
   ]
  },
  {
   "cell_type": "markdown",
   "metadata": {},
   "source": [
    "---"
   ]
  },
  {
   "cell_type": "code",
   "execution_count": 43,
   "metadata": {},
   "outputs": [],
   "source": [
    "from numpy import tan"
   ]
  },
  {
   "cell_type": "code",
   "execution_count": 44,
   "metadata": {},
   "outputs": [],
   "source": [
    "def incidence_axial(angles):\n",
    "    \n",
    "    phi   = np.deg2rad(angles['phi'])\n",
    "    phi0  = np.deg2rad(angles['phi0'])\n",
    "    gamma = np.deg2rad(angles['gamma'])\n",
    "        \n",
    "    NUM = tan(phi) * (1.0 + tan(phi0) * tan(phi + gamma))\n",
    "    DEN = tan(phi0)  * (1.0 + tan(phi) * tan(phi + gamma))\n",
    "    \n",
    "    return NUM / DEN - 1.0"
   ]
  },
  {
   "cell_type": "code",
   "execution_count": 45,
   "metadata": {},
   "outputs": [],
   "source": [
    "def incidence_radial(angles):\n",
    "    \n",
    "    phi  = np.deg2rad(angles['phi'])\n",
    "    phi0 = np.deg2rad(angles['phi0'])\n",
    "    \n",
    "    a = incidence_axial(angles)\n",
    "    \n",
    "    NUM = tan(phi0) * (1.0 + a)\n",
    "    DEN = tan(phi)\n",
    "    \n",
    "    return 1.0 - NUM / DEN"
   ]
  },
  {
   "cell_type": "code",
   "execution_count": 46,
   "metadata": {},
   "outputs": [],
   "source": [
    "incidences = []\n",
    "\n",
    "for angles in distributions:\n",
    "\n",
    "    a       = incidence_axial(angles)\n",
    "    a_prime = incidence_radial(angles)\n",
    "    \n",
    "    incidences.append({'a':a, 'a_p': a_prime, 'r': angles['r']})"
   ]
  },
  {
   "cell_type": "code",
   "execution_count": 47,
   "metadata": {},
   "outputs": [
    {
     "data": {
      "text/plain": [
       "array([<matplotlib.axes._subplots.AxesSubplot object at 0x000000001F0A9780>,\n",
       "       <matplotlib.axes._subplots.AxesSubplot object at 0x000000001F4037F0>],\n",
       "      dtype=object)"
      ]
     },
     "execution_count": 47,
     "metadata": {},
     "output_type": "execute_result"
    },
    {
     "data": {
      "image/png": "[encoded data removed]",
      "text/plain": [
       "<Figure size 432x288 with 2 Axes>"
      ]
     },
     "metadata": {
      "needs_background": "light"
     },
     "output_type": "display_data"
    }
   ],
   "source": [
    "pd.DataFrame(incidences).set_index('r').plot(subplots=True)"
   ]
  },
  {
   "cell_type": "markdown",
   "metadata": {},
   "source": [
    "---"
   ]
  },
  {
   "cell_type": "code",
   "execution_count": 53,
   "metadata": {},
   "outputs": [],
   "source": [
    "def K(angles):\n",
    "    \n",
    "    _cl = airfoil.cl(angles['alpha'])\n",
    "    a = incidence_axial(angles)\n",
    "    \n",
    "    phi   = np.deg2rad(angles['phi'])\n",
    "    gamma = np.deg2rad(angles['gamma'])\n",
    "    \n",
    "    NUM = _cl * (1.0 + a)**2.0\n",
    "    DEN = np.sin(phi)**2.0 * np.cos(gamma)\n",
    "    \n",
    "    return NUM / DEN"
   ]
  },
  {
   "cell_type": "code",
   "execution_count": 54,
   "metadata": {},
   "outputs": [],
   "source": [
    "def Tc(angles):\n",
    "    \n",
    "    _K = K(angles)\n",
    "    \n",
    "    phi   = np.deg2rad(angles['phi'])\n",
    "    gamma = np.deg2rad(angles['gamma'])\n",
    "    \n",
    "    return _K * np.cos(phi + gamma)"
   ]
  },
  {
   "cell_type": "code",
   "execution_count": 55,
   "metadata": {},
   "outputs": [],
   "source": [
    "def Qc(angles):\n",
    "    \n",
    "    _K = K(angles)\n",
    "    \n",
    "    phi   = np.deg2rad(angles['phi'])\n",
    "    gamma = np.deg2rad(angles['gamma'])\n",
    "    \n",
    "    return _K * np.sin(phi + gamma)"
   ]
  },
  {
   "cell_type": "code",
   "execution_count": 56,
   "metadata": {},
   "outputs": [],
   "source": [
    "def dCT_dr(angles):\n",
    "    \n",
    "    _r = angles['r']\n",
    "    \n",
    "    _c = propeller.chord(_r)\n",
    "    \n",
    "    _Tc = Tc(angles)\n",
    "    \n",
    "    return _c * _Tc"
   ]
  },
  {
   "cell_type": "code",
   "execution_count": 57,
   "metadata": {},
   "outputs": [],
   "source": [
    "def dCQ_dr(angles):\n",
    "    \n",
    "    _r = angles['r']\n",
    "    \n",
    "    _c = propeller.chord(_r)\n",
    "    \n",
    "    _Qc = Qc(angles)\n",
    "    \n",
    "    return _r * _c * _Qc"
   ]
  },
  {
   "cell_type": "code",
   "execution_count": 58,
   "metadata": {},
   "outputs": [
    {
     "data": {
      "text/plain": [
       "0.6219489388482647"
      ]
     },
     "execution_count": 58,
     "metadata": {},
     "output_type": "execute_result"
    }
   ],
   "source": [
    "dCT_dr(angles)"
   ]
  },
  {
   "cell_type": "code",
   "execution_count": 59,
   "metadata": {},
   "outputs": [
    {
     "data": {
      "text/plain": [
       "0.23924342377275387"
      ]
     },
     "execution_count": 59,
     "metadata": {},
     "output_type": "execute_result"
    }
   ],
   "source": [
    "dCQ_dr(angles)"
   ]
  }
 ],
 "metadata": {
  "kernelspec": {
   "display_name": "pybem",
   "language": "python",
   "name": "pybem"
  },
  "language_info": {
   "codemirror_mode": {
    "name": "ipython",
    "version": 3
   },
   "file_extension": ".py",
   "mimetype": "text/x-python",
   "name": "python",
   "nbconvert_exporter": "python",
   "pygments_lexer": "ipython3",
   "version": "3.6.7"
  }
 },
 "nbformat": 4,
 "nbformat_minor": 2
}
