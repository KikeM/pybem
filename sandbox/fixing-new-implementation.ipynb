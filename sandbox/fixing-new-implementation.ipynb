{
 "cells": [
  {
   "cell_type": "code",
   "execution_count": 69,
   "metadata": {},
   "outputs": [],
   "source": [
    "import pickle\n",
    "from functools import partial\n",
    "from math import pi\n",
    "from pathlib import Path\n",
    "\n",
    "import matplotlib.pyplot as plt\n",
    "plt.style.use('ggplot')\n",
    "import numpy as np\n",
    "import pandas as pd\n",
    "from scipy.optimize import newton_krylov\n",
    "\n",
    "from tqdm import tqdm_notebook as tqdm\n",
    "\n",
    "from pybem.core import Airfoil, Propeller"
   ]
  },
  {
   "cell_type": "code",
   "execution_count": 9,
   "metadata": {},
   "outputs": [],
   "source": [
    "################################################################################\n",
    "path_polar = Path(r'D:\\Users\\emillan\\misCodigos\\Notebooks\\pybem\\pybem\\data\\naca0012.csv')\n",
    "\n",
    "airfoil_data_df = pd.read_csv(path_polar.open(mode='r')) \n",
    "airfoil_data_df = airfoil_data_df.astype(float)\n",
    "\n",
    "alpha    = airfoil_data_df['Alpha'].values\n",
    "polar_cl = airfoil_data_df['Cl'].values\n",
    "polar_cd = airfoil_data_df['Cd'].values\n",
    "\n",
    "airfoil = Airfoil(alpha, polar_cl, polar_cd)\n",
    "                  "
   ]
  },
  {
   "cell_type": "code",
   "execution_count": 26,
   "metadata": {},
   "outputs": [],
   "source": [
    "################################################################################\n",
    "\n",
    "# Create propeller parameters\n",
    "J   = 1.0\n",
    "D   = 1.0\n",
    "N_b = 4\n",
    "\n",
    "def solidity(r):\n",
    "    NUM = 2.0 * pi * r * D \n",
    "    DEN = N_b * propeller.chord(r)\n",
    "    return NUM / DEN\n",
    "\n",
    "def tan_phi(r):\n",
    "    return J / r / 2.0 / pi\n",
    "\n",
    "# Create distributions\n",
    "N = 50\n",
    "# r_hat = r / D\n",
    "r_hat = np.linspace(0.1, 0.5, N)\n",
    "chord = np.linspace(1.0, 0.25, N)\n",
    "\n",
    "tan0 = np.rad2deg(np.arctan(tan_phi(r_hat[0])))\n",
    "tanN = np.rad2deg(np.arctan(tan_phi(r_hat[-1])))\n",
    "twist = np.linspace(60.0, 0, N)\n",
    "\n",
    "propeller = Propeller(r_hub      = 0.0, \n",
    "                      r_tip      = 0.0,\n",
    "                      r_dist     = r_hat,\n",
    "                      beta_dist  = twist,\n",
    "                      chord_dist = chord)"
   ]
  },
  {
   "cell_type": "code",
   "execution_count": 36,
   "metadata": {},
   "outputs": [],
   "source": [
    "################################################################################\n",
    "def residual(theta, r):\n",
    "\n",
    "    _S = solidity(r)\n",
    "    \n",
    "    # Compute base effective pitch\n",
    "    _tan_phi = tan_phi(r) \n",
    "    phi0 = np.rad2deg(np.arctan(_tan_phi))\n",
    "\n",
    "    # Compute airfoil angle\n",
    "    _twist = propeller.beta(r)\n",
    "    _alpha = _twist - (phi0 + theta)\n",
    "    \n",
    "    return phi0, _alpha, _twist\n",
    "\n",
    "    try:\n",
    "        _cl = airfoil.cl(_alpha)\n",
    "        _cd = airfoil.cd(_cl)\n",
    "    except:\n",
    "        print('phi0:', phi0)\n",
    "        print('twist:', _twist)\n",
    "        print('alpha:', _alpha)\n",
    "        print('theta:', theta)\n",
    "        raise ValueError\n",
    "\n",
    "    _tan_gamma = _cd / _cl\n",
    "\n",
    "    # Get angles in the right degrees\n",
    "    _theta = np.deg2rad(theta)\n",
    "    _phi   = np.deg2rad(phi0 + theta)\n",
    "\n",
    "    NUM = 1.0 - _tan_gamma   * np.tan(_theta)\n",
    "    DEN = 4.0 * np.sin(_phi) * np.tan(_theta)\n",
    "\n",
    "    return _S / _cl - NUM / DEN "
   ]
  },
  {
   "cell_type": "code",
   "execution_count": 74,
   "metadata": {},
   "outputs": [
    {
     "data": {
      "application/vnd.jupyter.widget-view+json": {
       "model_id": "e820cd2e0f60412fa53d24149bc0649b",
       "version_major": 2,
       "version_minor": 0
      },
      "text/plain": [
       "HBox(children=(IntProgress(value=0, max=10), HTML(value='')))"
      ]
     },
     "metadata": {},
     "output_type": "display_data"
    },
    {
     "data": {
      "application/vnd.jupyter.widget-view+json": {
       "model_id": "",
       "version_major": 2,
       "version_minor": 0
      },
      "text/plain": [
       "HBox(children=(IntProgress(value=0, max=50), HTML(value='')))"
      ]
     },
     "metadata": {},
     "output_type": "display_data"
    },
    {
     "data": {
      "application/vnd.jupyter.widget-view+json": {
       "model_id": "",
       "version_major": 2,
       "version_minor": 0
      },
      "text/plain": [
       "HBox(children=(IntProgress(value=0, max=50), HTML(value='')))"
      ]
     },
     "metadata": {},
     "output_type": "display_data"
    },
    {
     "data": {
      "application/vnd.jupyter.widget-view+json": {
       "model_id": "",
       "version_major": 2,
       "version_minor": 0
      },
      "text/plain": [
       "HBox(children=(IntProgress(value=0, max=50), HTML(value='')))"
      ]
     },
     "metadata": {},
     "output_type": "display_data"
    },
    {
     "data": {
      "application/vnd.jupyter.widget-view+json": {
       "model_id": "",
       "version_major": 2,
       "version_minor": 0
      },
      "text/plain": [
       "HBox(children=(IntProgress(value=0, max=50), HTML(value='')))"
      ]
     },
     "metadata": {},
     "output_type": "display_data"
    },
    {
     "data": {
      "application/vnd.jupyter.widget-view+json": {
       "model_id": "",
       "version_major": 2,
       "version_minor": 0
      },
      "text/plain": [
       "HBox(children=(IntProgress(value=0, max=50), HTML(value='')))"
      ]
     },
     "metadata": {},
     "output_type": "display_data"
    },
    {
     "data": {
      "application/vnd.jupyter.widget-view+json": {
       "model_id": "",
       "version_major": 2,
       "version_minor": 0
      },
      "text/plain": [
       "HBox(children=(IntProgress(value=0, max=50), HTML(value='')))"
      ]
     },
     "metadata": {},
     "output_type": "display_data"
    },
    {
     "data": {
      "application/vnd.jupyter.widget-view+json": {
       "model_id": "",
       "version_major": 2,
       "version_minor": 0
      },
      "text/plain": [
       "HBox(children=(IntProgress(value=0, max=50), HTML(value='')))"
      ]
     },
     "metadata": {},
     "output_type": "display_data"
    },
    {
     "data": {
      "application/vnd.jupyter.widget-view+json": {
       "model_id": "",
       "version_major": 2,
       "version_minor": 0
      },
      "text/plain": [
       "HBox(children=(IntProgress(value=0, max=50), HTML(value='')))"
      ]
     },
     "metadata": {},
     "output_type": "display_data"
    },
    {
     "data": {
      "application/vnd.jupyter.widget-view+json": {
       "model_id": "",
       "version_major": 2,
       "version_minor": 0
      },
      "text/plain": [
       "HBox(children=(IntProgress(value=0, max=50), HTML(value='')))"
      ]
     },
     "metadata": {},
     "output_type": "display_data"
    },
    {
     "data": {
      "application/vnd.jupyter.widget-view+json": {
       "model_id": "",
       "version_major": 2,
       "version_minor": 0
      },
      "text/plain": [
       "HBox(children=(IntProgress(value=0, max=50), HTML(value='')))"
      ]
     },
     "metadata": {},
     "output_type": "display_data"
    },
    {
     "name": "stdout",
     "output_type": "stream",
     "text": [
      "\n"
     ]
    }
   ],
   "source": [
    "probes = []\n",
    "\n",
    "for _j in tqdm(np.linspace(0.2, 1.5, 10)): \n",
    "    J = _j\n",
    "    for _theta in tqdm(np.linspace(-10.0,20), leave = False):\n",
    "    \n",
    "        phi0, _alpha, _twist = residual(_theta, r_hat[0])\n",
    "        \n",
    "        probes.append({'J': _j, 'theta':_theta, 'phi0': phi0, 'alpha':_alpha})"
   ]
  },
  {
   "cell_type": "code",
   "execution_count": 75,
   "metadata": {},
   "outputs": [],
   "source": [
    "probes_df = pd.DataFrame(probes)"
   ]
  },
  {
   "cell_type": "code",
   "execution_count": 76,
   "metadata": {},
   "outputs": [],
   "source": [
    "j_groups = probes_df.groupby(by='J').groups"
   ]
  },
  {
   "cell_type": "code",
   "execution_count": 77,
   "metadata": {},
   "outputs": [
    {
     "data": {
      "text/plain": [
       "[<matplotlib.lines.Line2D at 0x2ad69f98>]"
      ]
     },
     "execution_count": 77,
     "metadata": {},
     "output_type": "execute_result"
    },
    {
     "data": {
      "text/plain": [
       "[<matplotlib.lines.Line2D at 0x2ad75438>]"
      ]
     },
     "execution_count": 77,
     "metadata": {},
     "output_type": "execute_result"
    },
    {
     "data": {
      "text/plain": [
       "[<matplotlib.lines.Line2D at 0x2ad757f0>]"
      ]
     },
     "execution_count": 77,
     "metadata": {},
     "output_type": "execute_result"
    },
    {
     "data": {
      "text/plain": [
       "[<matplotlib.lines.Line2D at 0x2ad75be0>]"
      ]
     },
     "execution_count": 77,
     "metadata": {},
     "output_type": "execute_result"
    },
    {
     "data": {
      "text/plain": [
       "[<matplotlib.lines.Line2D at 0x2ad75ef0>]"
      ]
     },
     "execution_count": 77,
     "metadata": {},
     "output_type": "execute_result"
    },
    {
     "data": {
      "text/plain": [
       "[<matplotlib.lines.Line2D at 0x2ad7b320>]"
      ]
     },
     "execution_count": 77,
     "metadata": {},
     "output_type": "execute_result"
    },
    {
     "data": {
      "text/plain": [
       "[<matplotlib.lines.Line2D at 0x2ad7b668>]"
      ]
     },
     "execution_count": 77,
     "metadata": {},
     "output_type": "execute_result"
    },
    {
     "data": {
      "text/plain": [
       "[<matplotlib.lines.Line2D at 0x2ad7b9b0>]"
      ]
     },
     "execution_count": 77,
     "metadata": {},
     "output_type": "execute_result"
    },
    {
     "data": {
      "text/plain": [
       "[<matplotlib.lines.Line2D at 0x2ad7bd30>]"
      ]
     },
     "execution_count": 77,
     "metadata": {},
     "output_type": "execute_result"
    },
    {
     "data": {
      "text/plain": [
       "[<matplotlib.lines.Line2D at 0x2ad8d0b8>]"
      ]
     },
     "execution_count": 77,
     "metadata": {},
     "output_type": "execute_result"
    },
    {
     "data": {
      "text/plain": [
       "[<matplotlib.lines.Line2D at 0x2ad7bef0>]"
      ]
     },
     "execution_count": 77,
     "metadata": {},
     "output_type": "execute_result"
    },
    {
     "data": {
      "text/plain": [
       "[<matplotlib.lines.Line2D at 0x2ad8d780>]"
      ]
     },
     "execution_count": 77,
     "metadata": {},
     "output_type": "execute_result"
    },
    {
     "data": {
      "text/plain": [
       "[<matplotlib.lines.Line2D at 0x2ad8db00>]"
      ]
     },
     "execution_count": 77,
     "metadata": {},
     "output_type": "execute_result"
    },
    {
     "data": {
      "text/plain": [
       "[<matplotlib.lines.Line2D at 0x2ad8de48>]"
      ]
     },
     "execution_count": 77,
     "metadata": {},
     "output_type": "execute_result"
    },
    {
     "data": {
      "text/plain": [
       "[<matplotlib.lines.Line2D at 0x2ad1c5f8>]"
      ]
     },
     "execution_count": 77,
     "metadata": {},
     "output_type": "execute_result"
    },
    {
     "data": {
      "text/plain": [
       "[<matplotlib.lines.Line2D at 0x2ad49860>]"
      ]
     },
     "execution_count": 77,
     "metadata": {},
     "output_type": "execute_result"
    },
    {
     "data": {
      "text/plain": [
       "[<matplotlib.lines.Line2D at 0x2ad99898>]"
      ]
     },
     "execution_count": 77,
     "metadata": {},
     "output_type": "execute_result"
    },
    {
     "data": {
      "text/plain": [
       "[<matplotlib.lines.Line2D at 0x2ad99ba8>]"
      ]
     },
     "execution_count": 77,
     "metadata": {},
     "output_type": "execute_result"
    },
    {
     "data": {
      "text/plain": [
       "[<matplotlib.lines.Line2D at 0x2ad998d0>]"
      ]
     },
     "execution_count": 77,
     "metadata": {},
     "output_type": "execute_result"
    },
    {
     "data": {
      "text/plain": [
       "[<matplotlib.lines.Line2D at 0x2ada5320>]"
      ]
     },
     "execution_count": 77,
     "metadata": {},
     "output_type": "execute_result"
    },
    {
     "data": {
      "text/plain": [
       "Text(0, 0.5, 'alpha')"
      ]
     },
     "execution_count": 77,
     "metadata": {},
     "output_type": "execute_result"
    },
    {
     "data": {
      "text/plain": [
       "Text(0, 0.5, 'phi0')"
      ]
     },
     "execution_count": 77,
     "metadata": {},
     "output_type": "execute_result"
    },
    {
     "data": {
      "text/plain": [
       "<matplotlib.legend.Legend at 0x2ad69eb8>"
      ]
     },
     "execution_count": 77,
     "metadata": {},
     "output_type": "execute_result"
    },
    {
     "data": {
      "text/plain": [
       "<matplotlib.legend.Legend at 0x2ad99f60>"
      ]
     },
     "execution_count": 77,
     "metadata": {},
     "output_type": "execute_result"
    },
    {
     "data": {
      "image/png": "[encoded data removed]",
      "text/plain": [
       "<Figure size 720x720 with 2 Axes>"
      ]
     },
     "metadata": {},
     "output_type": "display_data"
    }
   ],
   "source": [
    "fig, (ax1, ax2) = plt.subplots(nrows = 2, figsize =(10,10))\n",
    "\n",
    "for j, indices in j_groups.items():\n",
    "    \n",
    "    _df = probes_df.loc[indices].copy()\n",
    "    _df = _df.set_index('theta')\n",
    "    \n",
    "    ax1.plot(_df.index, _df['alpha'], label = str(j));\n",
    "    ax2.plot(_df.index, _df['phi0'], label = str(j));\n",
    "    \n",
    "ax1.set_ylabel('alpha')\n",
    "ax2.set_ylabel('phi0')\n",
    "ax1.legend()\n",
    "ax2.legend()"
   ]
  },
  {
   "cell_type": "code",
   "execution_count": 30,
   "metadata": {},
   "outputs": [
    {
     "ename": "NoConvergence",
     "evalue": "1.9791967810772235",
     "output_type": "error",
     "traceback": [
      "\u001b[1;31m---------------------------------------------------------------------------\u001b[0m",
      "\u001b[1;31mNoConvergence\u001b[0m                             Traceback (most recent call last)",
      "\u001b[1;32m<ipython-input-30-4e3cf641f560>\u001b[0m in \u001b[0;36m<module>\u001b[1;34m\u001b[0m\n\u001b[0;32m      3\u001b[0m \u001b[1;32mfor\u001b[0m \u001b[0mradius\u001b[0m \u001b[1;32min\u001b[0m \u001b[0mr_hat\u001b[0m\u001b[1;33m:\u001b[0m\u001b[1;33m\u001b[0m\u001b[1;33m\u001b[0m\u001b[0m\n\u001b[0;32m      4\u001b[0m     \u001b[0m_residual\u001b[0m \u001b[1;33m=\u001b[0m \u001b[0mpartial\u001b[0m\u001b[1;33m(\u001b[0m\u001b[0mresidual\u001b[0m\u001b[1;33m,\u001b[0m \u001b[0mr\u001b[0m \u001b[1;33m=\u001b[0m \u001b[0mradius\u001b[0m\u001b[1;33m)\u001b[0m\u001b[1;33m\u001b[0m\u001b[1;33m\u001b[0m\u001b[0m\n\u001b[1;32m----> 5\u001b[1;33m     \u001b[0minference_angles\u001b[0m\u001b[1;33m.\u001b[0m\u001b[0mappend\u001b[0m\u001b[1;33m(\u001b[0m\u001b[1;33m{\u001b[0m\u001b[1;34m'r'\u001b[0m\u001b[1;33m:\u001b[0m \u001b[0mradius\u001b[0m\u001b[1;33m,\u001b[0m \u001b[1;34m'theta'\u001b[0m\u001b[1;33m:\u001b[0m \u001b[0mnewton_krylov\u001b[0m\u001b[1;33m(\u001b[0m\u001b[0m_residual\u001b[0m\u001b[1;33m,\u001b[0m \u001b[1;36m0.001\u001b[0m\u001b[1;33m)\u001b[0m\u001b[1;33m.\u001b[0m\u001b[0mitem\u001b[0m\u001b[1;33m(\u001b[0m\u001b[1;33m)\u001b[0m\u001b[1;33m}\u001b[0m\u001b[1;33m)\u001b[0m\u001b[1;33m\u001b[0m\u001b[1;33m\u001b[0m\u001b[0m\n\u001b[0m\u001b[0;32m      6\u001b[0m \u001b[1;33m\u001b[0m\u001b[0m\n\u001b[0;32m      7\u001b[0m \u001b[0mtheta_df\u001b[0m \u001b[1;33m=\u001b[0m \u001b[0mpd\u001b[0m\u001b[1;33m.\u001b[0m\u001b[0mDataFrame\u001b[0m\u001b[1;33m(\u001b[0m\u001b[0minference_angles\u001b[0m\u001b[1;33m)\u001b[0m\u001b[1;33m.\u001b[0m\u001b[0mset_index\u001b[0m\u001b[1;33m(\u001b[0m\u001b[1;34m'r'\u001b[0m\u001b[1;33m)\u001b[0m\u001b[1;33m\u001b[0m\u001b[1;33m\u001b[0m\u001b[0m\n",
      "\u001b[1;32m~\\envs\\pybem\\lib\\site-packages\\scipy\\optimize\\nonlin.py\u001b[0m in \u001b[0;36mnewton_krylov\u001b[1;34m(F, xin, iter, rdiff, method, inner_maxiter, inner_M, outer_k, verbose, maxiter, f_tol, f_rtol, x_tol, x_rtol, tol_norm, line_search, callback, **kw)\u001b[0m\n",
      "\u001b[1;32m~\\envs\\pybem\\lib\\site-packages\\scipy\\optimize\\nonlin.py\u001b[0m in \u001b[0;36mnonlin_solve\u001b[1;34m(F, x0, jacobian, iter, verbose, maxiter, f_tol, f_rtol, x_tol, x_rtol, tol_norm, line_search, callback, full_output, raise_exception)\u001b[0m\n\u001b[0;32m    348\u001b[0m     \u001b[1;32melse\u001b[0m\u001b[1;33m:\u001b[0m\u001b[1;33m\u001b[0m\u001b[1;33m\u001b[0m\u001b[0m\n\u001b[0;32m    349\u001b[0m         \u001b[1;32mif\u001b[0m \u001b[0mraise_exception\u001b[0m\u001b[1;33m:\u001b[0m\u001b[1;33m\u001b[0m\u001b[1;33m\u001b[0m\u001b[0m\n\u001b[1;32m--> 350\u001b[1;33m             \u001b[1;32mraise\u001b[0m \u001b[0mNoConvergence\u001b[0m\u001b[1;33m(\u001b[0m\u001b[0m_array_like\u001b[0m\u001b[1;33m(\u001b[0m\u001b[0mx\u001b[0m\u001b[1;33m,\u001b[0m \u001b[0mx0\u001b[0m\u001b[1;33m)\u001b[0m\u001b[1;33m)\u001b[0m\u001b[1;33m\u001b[0m\u001b[1;33m\u001b[0m\u001b[0m\n\u001b[0m\u001b[0;32m    351\u001b[0m         \u001b[1;32melse\u001b[0m\u001b[1;33m:\u001b[0m\u001b[1;33m\u001b[0m\u001b[1;33m\u001b[0m\u001b[0m\n\u001b[0;32m    352\u001b[0m             \u001b[0mstatus\u001b[0m \u001b[1;33m=\u001b[0m \u001b[1;36m2\u001b[0m\u001b[1;33m\u001b[0m\u001b[1;33m\u001b[0m\u001b[0m\n",
      "\u001b[1;31mNoConvergence\u001b[0m: 1.9791967810772235"
     ]
    }
   ],
   "source": [
    "inference_angles = []\n",
    "\n",
    "for radius in r_hat:\n",
    "    _residual = partial(residual, r = radius)\n",
    "    inference_angles.append({'r': radius, 'theta': newton_krylov(_residual, ).item()})\n",
    "\n",
    "theta_df = pd.DataFrame(inference_angles).set_index('r') "
   ]
  },
  {
   "cell_type": "code",
   "execution_count": null,
   "metadata": {},
   "outputs": [],
   "source": [
    "def angles_distribution(theta, r):\n",
    "\n",
    "    _S = solidity(r)\n",
    "    \n",
    "    # Compute base effective pitch\n",
    "    _tan_phi = tan_phi(r) \n",
    "    phi0 = np.rad2deg(np.arctan(_tan_phi))\n",
    "\n",
    "    # Compute airfoil angle\n",
    "    _twist = propeller.beta(r)\n",
    "    _alpha = _twist - (phi0)\n",
    "\n",
    "    _cl = airfoil.cl(_alpha)\n",
    "    _cd = airfoil.cd(_cl)\n",
    "\n",
    "    _tan_gamma = _cd / _cl\n",
    "\n",
    "    # Get angles in the right degrees\n",
    "    _theta = np.deg2rad(theta)\n",
    "    _phi   = np.deg2rad(phi0 + theta)\n",
    "\n",
    "    return {'twist': _twist, 'alpha':_alpha, 'phi': _phi, 'r': r, 'theta': theta}\n",
    "\n",
    "#%%\n",
    "distributions = []\n",
    "\n",
    "for radius in theta_df.index:\n",
    "    distributions.append(angles_distribution(theta_df.loc[radius].values[0], radius))\n",
    "\n",
    "distributions_df = pd.DataFrame(distributions)\n",
    "distributions_df = distributions_df.set_index('r')\n",
    "#%%"
   ]
  }
 ],
 "metadata": {
  "kernelspec": {
   "display_name": "pybem",
   "language": "python",
   "name": "pybem"
  },
  "language_info": {
   "codemirror_mode": {
    "name": "ipython",
    "version": 3
   },
   "file_extension": ".py",
   "mimetype": "text/x-python",
   "name": "python",
   "nbconvert_exporter": "python",
   "pygments_lexer": "ipython3",
   "version": "3.6.7"
  }
 },
 "nbformat": 4,
 "nbformat_minor": 2
}
